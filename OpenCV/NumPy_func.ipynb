{
 "cells": [
  {
   "cell_type": "code",
   "execution_count": 4,
   "metadata": {},
   "outputs": [
    {
     "name": "stdout",
     "output_type": "stream",
     "text": [
      "[3 2]\n",
      "[1 2]\n",
      "False\n"
     ]
    }
   ],
   "source": [
    "import numpy as np\n",
    "\n",
    "a=np.array([1,2])\n",
    "\n",
    "y=a.copy()  #bu fonksiyon sayesinde a arrayini kopyalarız ve yeni array artık a arrayinden farklı memoryde tutulur.Bu sayede a arrayınde yapılan bir değişiklikten yeni array etkilenmez.\n",
    "\n",
    "a[0]=3\n",
    "\n",
    "print(a)\n",
    "print(y)\n",
    "print(np.may_share_memory(a,y)) #bu fonksiyon sayesinde verilen arraylerin aynı memoryde tutulup tutulmadıgına bakılır. Boolean değer döndürür."
   ]
  },
  {
   "cell_type": "code",
   "execution_count": 14,
   "metadata": {},
   "outputs": [
    {
     "name": "stdout",
     "output_type": "stream",
     "text": [
      "[[0.+0.j 1.+0.j 2.+0.j 3.+0.j 4.+0.j]\n",
      " [5.+0.j 6.+0.j 7.+0.j 8.+0.j 9.+0.j]]\n"
     ]
    }
   ],
   "source": [
    "import numpy as np \n",
    "a = np.arange(0,10,1,dtype=complex).reshape(2,5) #bu fonksiyon ile belirlenen uzunlukta ve adım sayısında array oluşturulur.\n",
    "# bu fonksiyon ile array yeniden şekillendirilir. 2 satır 5 sütun yaptık. arrayler yeterli eleman sayısına göre şekillendirilmelidir.\n",
    "#dtype ile veri tipini seçeriz, int float complex vb\n",
    "print(a)  "
   ]
  },
  {
   "cell_type": "code",
   "execution_count": 13,
   "metadata": {},
   "outputs": [
    {
     "name": "stdout",
     "output_type": "stream",
     "text": [
      "[[[1 2]\n",
      "  [3 4]]\n",
      "\n",
      " [[5 6]\n",
      "  [7 8]]]\n",
      "(2, 2, 2)\n"
     ]
    }
   ],
   "source": [
    "a=np.array([[[1,2],[3,4]],[[5,6],[7,8]]]) #üc boyutlu bir dizi olusturmak \n",
    "print(a)\n",
    "print(a.shape)"
   ]
  },
  {
   "cell_type": "code",
   "execution_count": null,
   "metadata": {},
   "outputs": [],
   "source": [
    "a=np.array([[1,2],[3,4]])\n",
    "\n",
    "b=np.full_like(a,12) #full_like benzer şekilde doldurarak array olusturur.a arrayı ile aynı boyutta ama içi 12 ile doldurulmuş yeni bir array verir.\n",
    "print(b)"
   ]
  },
  {
   "cell_type": "code",
   "execution_count": 15,
   "metadata": {},
   "outputs": [
    {
     "name": "stdout",
     "output_type": "stream",
     "text": [
      "[ 0.   2.5  5.   7.5 10. ]\n"
     ]
    }
   ],
   "source": [
    "a=np.linspace(0,10,5) # 0'dan 10'a kadar giden ve 5 elemanlı olan array oluşturur. degerleri kendi belirler ve eşit aralıklı oluşturmaya calısır.\n",
    "print(a)"
   ]
  },
  {
   "cell_type": "code",
   "execution_count": 18,
   "metadata": {},
   "outputs": [
    {
     "name": "stdout",
     "output_type": "stream",
     "text": [
      "[ 5 10 15 20 25]\n",
      "[-0.95892427 -0.54402111  0.65028784  0.91294525 -0.13235175]\n",
      "[ 25 100 225 400 625]\n"
     ]
    }
   ],
   "source": [
    "a=np.array([10,20,30,40,50])\n",
    "b=np.array([5,10,15,20,25])\n",
    "print(a-b)\n",
    "c=np.sin(b)#b elemanının sinüs değerlerini alır.\n",
    "d=np.power(b,2) # power fonksiyonu üs alır . b arrayının elemanlarının ikinci kuvvetini alarak yeni bir array olusturdu.\n",
    "print(c)\n",
    "print(d)"
   ]
  },
  {
   "cell_type": "code",
   "execution_count": 22,
   "metadata": {},
   "outputs": [
    {
     "name": "stdout",
     "output_type": "stream",
     "text": [
      "[[ 0  1  2  3  4]\n",
      " [ 5  6  7  8  9]\n",
      " [10 11 12 13 14]\n",
      " [15 16 17 18 19]]\n",
      "-----------------------\n",
      "[0 1 2 3 4]\n",
      "[5 6 7 8 9]\n",
      "[10 11 12 13 14]\n",
      "[15 16 17 18 19]\n",
      "-----------------------\n",
      "[[ 1  2  3]\n",
      " [11 12 13]]\n",
      "0\n",
      "1\n",
      "2\n",
      "3\n",
      "4\n",
      "5\n",
      "6\n",
      "7\n",
      "8\n",
      "9\n",
      "10\n",
      "11\n",
      "12\n",
      "13\n",
      "14\n",
      "15\n",
      "16\n",
      "17\n",
      "18\n",
      "19\n"
     ]
    }
   ],
   "source": [
    "#indexing slicing iterating\n",
    "a=np.arange(0,20,1).reshape(4,5)\n",
    "print(a)\n",
    "print(\"-----------------------\")\n",
    "for row in a:\n",
    "    print(row)\n",
    "\n",
    "print(\"-----------------------\")\n",
    "\n",
    "print(a[:5:2 ,1:4:1]) # slicing ilk değerden başlar, son değeri dahil etmez, seçtiğimiz değere göre atlayarak yapabilir.bu şekilde arrayler içinde istediğimiz kısmı alabiliriz.\n",
    "print(\"-----------------------\")\n",
    "for element in a.flat:\n",
    "    print(element)"
   ]
  },
  {
   "cell_type": "code",
   "execution_count": 23,
   "metadata": {},
   "outputs": [
    {
     "name": "stdout",
     "output_type": "stream",
     "text": [
      "[[ 0  1  2  3  4]\n",
      " [ 5  6  7  8  9]\n",
      " [10 11 12 13 14]\n",
      " [15 16 17 18 19]]\n",
      "-----------------------\n",
      "[ 0  1  2  3  4  5  6  7  8  9 10 11 12 13 14 15 16 17 18 19]\n"
     ]
    }
   ],
   "source": [
    "a=np.arange(0,20,1).reshape(4,5)\n",
    "print(a)\n",
    "print(\"-----------------------\")\n",
    "print(a.ravel()) # a arrayinde ki tüm elemanları tek boyutlu bir array haline getirir."
   ]
  },
  {
   "cell_type": "code",
   "execution_count": 24,
   "metadata": {},
   "outputs": [
    {
     "name": "stdout",
     "output_type": "stream",
     "text": [
      "int32\n",
      "-----------------------\n",
      "[[ 0.  1.  2.  3.  4.]\n",
      " [ 5.  6.  7.  8.  9.]\n",
      " [10. 11. 12. 13. 14.]\n",
      " [15. 16. 17. 18. 19.]]\n",
      "float64\n"
     ]
    }
   ],
   "source": [
    "a=np.arange(0,20,1).reshape(4,5)\n",
    "print(a.dtype)\n",
    "print(\"-----------------------\")\n",
    "a=a.astype(np.float64) #arrayin tipini değiştirebiliriz. int to float yaptık.\n",
    "print(a)\n",
    "print(a.dtype)"
   ]
  },
  {
   "cell_type": "code",
   "execution_count": null,
   "metadata": {},
   "outputs": [],
   "source": []
  }
 ],
 "metadata": {
  "interpreter": {
   "hash": "f9d450f416c0b3f9e2d3365d749aa2b038e5257b55deffde02801d6035ae80ab"
  },
  "kernelspec": {
   "display_name": "Python 3.10.4 64-bit",
   "language": "python",
   "name": "python3"
  },
  "language_info": {
   "codemirror_mode": {
    "name": "ipython",
    "version": 3
   },
   "file_extension": ".py",
   "mimetype": "text/x-python",
   "name": "python",
   "nbconvert_exporter": "python",
   "pygments_lexer": "ipython3",
   "version": "3.10.4"
  },
  "orig_nbformat": 4
 },
 "nbformat": 4,
 "nbformat_minor": 2
}
