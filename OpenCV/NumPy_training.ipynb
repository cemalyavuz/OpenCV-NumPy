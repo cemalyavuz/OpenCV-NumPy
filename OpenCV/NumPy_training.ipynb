{
 "cells": [
  {
   "cell_type": "code",
   "execution_count": 2,
   "metadata": {},
   "outputs": [
    {
     "name": "stdout",
     "output_type": "stream",
     "text": [
      "[1 2 3 4 5]\n",
      "<class 'numpy.ndarray'>\n",
      "(5,)\n",
      "5\n",
      "1\n",
      "20\n",
      "int32\n"
     ]
    }
   ],
   "source": [
    "import numpy as np \n",
    "\n",
    "x=np.array([1,2,3,4,5]) #array komutunun içine bir list yerleştirerek array oluştururuz. arraylerde elemanlar aynı data tipindedir.\n",
    "print(x)\n",
    "print(type(x)) #arrayın sınıfına bakılır. ndarray.\n",
    "print(x.shape) #her satır ve sütunda kaç eleman oldugunu gosterir.\n",
    "print(x.size) # satır ve sütun sayısı çarpımı ile array büyükllüğünü gösterir.\n",
    "print(x.ndim) # arrayın boyunu verir , tek boyutlu array oldugunu gosterdi.\n",
    "print(x.nbytes) # veriyi depolamak içim kullanılan byte miktarını gösterir.\n",
    "print(x.dtype) # elemanların veri tipini belirtir .\n"
   ]
  },
  {
   "cell_type": "code",
   "execution_count": 38,
   "metadata": {},
   "outputs": [
    {
     "name": "stdout",
     "output_type": "stream",
     "text": [
      "[[1 2 3]\n",
      " [4 5 6]]\n",
      "<class 'numpy.ndarray'>\n",
      "(2, 3)\n",
      "6\n",
      "2\n",
      "24\n",
      "int32\n"
     ]
    }
   ],
   "source": [
    "y=np.array([[1,2,3],[4,5,6]])\n",
    "print(y)\n",
    "print(type(y)) #arrayın sınıfına bakılır. ndarray.\n",
    "print(y.shape) #her satır ve sütunda kaç eleman oldugunu gosterir. 2 satır 3 sütun var.   \n",
    "print(y.size) # satır ve sütun sayısı çarpımı ile array büyüklüğünü gösterir.\n",
    "print(y.ndim) # arrayın boyunu verir , iki boyutlu array oldugunu gosterdi.\n",
    "print(y.nbytes) # veriyi depolamak içim kullanılan byte miktarını gösterir.\n",
    "print(y.dtype) # elemanların veri tipini belirtir ."
   ]
  },
  {
   "cell_type": "code",
   "execution_count": 39,
   "metadata": {},
   "outputs": [
    {
     "name": "stdout",
     "output_type": "stream",
     "text": [
      "[1 2 3 4]\n",
      "int32\n",
      "[1. 2. 3. 4.]\n",
      "float64\n",
      "[1.+0.j 2.+0.j 3.+0.j 4.+0.j]\n",
      "complex64\n"
     ]
    }
   ],
   "source": [
    "x=np.array([1,2,3,4])   # array içinde ki veri tiplerini başka veri tipine dönüştürmek. int to float int to complex\n",
    "print(x)\n",
    "print(x.dtype) \n",
    "\n",
    "y=np.array([1,2,3,4],dtype=np.float64) \n",
    "print(y)\n",
    "print(y.dtype) \n",
    "\n",
    "z=np.array([1,2,3,4],dtype=np.complex64) \n",
    "print(z)\n",
    "print(z.dtype) \n",
    "\n"
   ]
  },
  {
   "cell_type": "code",
   "execution_count": 40,
   "metadata": {},
   "outputs": [
    {
     "name": "stdout",
     "output_type": "stream",
     "text": [
      "[0.       +1.j 3.       +0.j 2.6457512+0.j 2.       +0.j]\n",
      "complex64\n",
      "[0.        3.        2.6457512 2.       ]\n",
      "[1. 0. 0. 0.]\n"
     ]
    }
   ],
   "source": [
    "x=np.sqrt(np.array([-1,9,7,4], dtype=np.complex64)) #sqrt ile kök alınır.\n",
    "print(x)\n",
    "print(x.dtype)\n",
    "\n",
    "print(x.real) #  kompleks verinin reel ve imajiner kısımlarını gosterir.\n",
    "print(x.imag)"
   ]
  },
  {
   "cell_type": "code",
   "execution_count": 41,
   "metadata": {},
   "outputs": [
    {
     "name": "stdout",
     "output_type": "stream",
     "text": [
      "[1.  3.  5.2 6. ]\n"
     ]
    }
   ],
   "source": [
    "x=np.array([1,3,5.2,6])\n",
    "np.save('kaydedilen_array1',x)   # arrayı kaydeder.\n",
    "\n",
    "y=np.load(\"kaydedilen_array1.npy\") #kaydedilen arrayı çağırır.\n",
    "print(y)"
   ]
  },
  {
   "cell_type": "code",
   "execution_count": 42,
   "metadata": {},
   "outputs": [
    {
     "name": "stdout",
     "output_type": "stream",
     "text": [
      "[[[0 0 0 0]\n",
      "  [0 0 0 0]\n",
      "  [0 0 0 0]]\n",
      "\n",
      " [[0 0 0 0]\n",
      "  [0 0 0 0]\n",
      "  [0 0 0 0]]]\n",
      "[[1. 1. 1.]\n",
      " [1. 1. 1.]]\n"
     ]
    }
   ],
   "source": [
    "x1=np.zeros((2,3,4),dtype=np.int64) #sıfırlardan olusan bir array olusturmak\n",
    "print(x1)\n",
    "\n",
    "y1=np.ones((2,3)) #birlerden oluşan bir array oluşturmak \n",
    "print(y1)"
   ]
  },
  {
   "cell_type": "code",
   "execution_count": 43,
   "metadata": {},
   "outputs": [
    {
     "name": "stdout",
     "output_type": "stream",
     "text": [
      "[[10 10 10]\n",
      " [10 10 10]]\n"
     ]
    }
   ],
   "source": [
    "x=np.full((2,3),10)\n",
    "print(x) # x array elemanlarını belirtilen veri ile doldurur.(10 ile doldurdu)"
   ]
  },
  {
   "cell_type": "code",
   "execution_count": 44,
   "metadata": {},
   "outputs": [
    {
     "name": "stdout",
     "output_type": "stream",
     "text": [
      "[[1.97626258e-323 0.00000000e+000 1.06099790e-313 0.00000000e+000]\n",
      " [0.00000000e+000 2.96439388e-323 0.00000000e+000 1.48539705e-313]]\n"
     ]
    }
   ],
   "source": [
    "q=np.empty((2,4)) #????\n",
    "print(q)"
   ]
  },
  {
   "cell_type": "code",
   "execution_count": 45,
   "metadata": {},
   "outputs": [
    {
     "name": "stdout",
     "output_type": "stream",
     "text": [
      "[[1. 0. 0. 0.]\n",
      " [0. 1. 0. 0.]\n",
      " [0. 0. 1. 0.]\n",
      " [0. 0. 0. 1.]]\n",
      "[[0. 1. 0. 0. 0.]\n",
      " [0. 0. 1. 0. 0.]\n",
      " [0. 0. 0. 1. 0.]\n",
      " [0. 0. 0. 0. 1.]\n",
      " [0. 0. 0. 0. 0.]]\n",
      "[[0. 0. 0. 0. 0.]\n",
      " [0. 0. 0. 0. 0.]\n",
      " [1. 0. 0. 0. 0.]\n",
      " [0. 1. 0. 0. 0.]\n",
      " [0. 0. 1. 0. 0.]]\n",
      "[[1. 0. 0. 0. 0.]\n",
      " [0. 1. 0. 0. 0.]\n",
      " [0. 0. 1. 0. 0.]\n",
      " [0. 0. 0. 1. 0.]\n",
      " [0. 0. 0. 0. 1.]]\n"
     ]
    }
   ],
   "source": [
    "x=np.eye(4) #birim matris dondurur. 4x4\n",
    "print(x) \n",
    "\n",
    "x=np.eye(5,k=1)\n",
    "print(x)\n",
    "\n",
    "x=np.eye(5,k=-2)\n",
    "print(x)\n",
    "\n",
    "\n",
    "y=np.identity(5) # birim matris olusturur.\n",
    "print(y)"
   ]
  },
  {
   "cell_type": "code",
   "execution_count": 46,
   "metadata": {},
   "outputs": [
    {
     "name": "stdout",
     "output_type": "stream",
     "text": [
      "[[4 0 0 0]\n",
      " [0 5 0 0]\n",
      " [0 0 6 0]\n",
      " [0 0 0 7]]\n"
     ]
    }
   ],
   "source": [
    "x=np.diag([4,5,6,7]) #birim matrise verilen degerleri yerlestirir.\n",
    "print(x)"
   ]
  },
  {
   "cell_type": "code",
   "execution_count": 47,
   "metadata": {},
   "outputs": [
    {
     "name": "stdout",
     "output_type": "stream",
     "text": [
      "[1 3 5 7 9]\n"
     ]
    }
   ],
   "source": [
    "x=np.arange(1,10,2) # belirtilen değerler arasında istenilen sıralama ile array olusturur. 1den 10a 10u dahil etmeden 2şer 2şer\n",
    "print(x)"
   ]
  },
  {
   "cell_type": "code",
   "execution_count": 48,
   "metadata": {},
   "outputs": [
    {
     "name": "stdout",
     "output_type": "stream",
     "text": [
      "[ 1.          3.41666667  5.83333333  8.25       10.66666667 13.08333333\n",
      " 15.5        17.91666667 20.33333333 22.75       25.16666667 27.58333333\n",
      " 30.        ]\n"
     ]
    }
   ],
   "source": [
    "y=np.linspace(1,30,13) #belirlenen değer aralıgında ve belirlenen sayıda aray olusturur.\n",
    "print(y)"
   ]
  },
  {
   "cell_type": "code",
   "execution_count": 49,
   "metadata": {},
   "outputs": [
    {
     "name": "stdout",
     "output_type": "stream",
     "text": [
      "[[[0]\n",
      "  [1]\n",
      "  [2]\n",
      "  [3]\n",
      "  [4]]\n",
      "\n",
      " [[5]\n",
      "  [6]\n",
      "  [7]\n",
      "  [8]\n",
      "  [9]]]\n"
     ]
    }
   ],
   "source": [
    "x=np.arange(0,10,1).reshape(2,5,1) # reshape ile matrisi arrayı yeniden sekillendirebiliriz. burada 2 adet 5x1 matris oluşturuldu.\n",
    "print(x)"
   ]
  },
  {
   "cell_type": "code",
   "execution_count": 50,
   "metadata": {},
   "outputs": [
    {
     "name": "stdout",
     "output_type": "stream",
     "text": [
      "[[0.41274928 0.6756816  0.41297759]\n",
      " [0.02586496 0.90215802 0.67386902]]\n"
     ]
    }
   ],
   "source": [
    "x=np.random.random((2,3)) #2x3 matris olusturur random şeklinde içinde ki değerler [0,1) \n",
    "print(x)"
   ]
  },
  {
   "cell_type": "code",
   "execution_count": 36,
   "metadata": {},
   "outputs": [
    {
     "name": "stdout",
     "output_type": "stream",
     "text": [
      "[[3 7]\n",
      " [3 6]\n",
      " [4 7]]\n"
     ]
    }
   ],
   "source": [
    "x=np.random.randint(3,12,size=(3,2)) # belirlenen değerler arasında kaça kaç bir matris oluşturmak istersek bunu değerleri random şekilde verir.\n",
    "print(x)"
   ]
  },
  {
   "cell_type": "code",
   "execution_count": 51,
   "metadata": {},
   "outputs": [
    {
     "name": "stdout",
     "output_type": "stream",
     "text": [
      "[ 0  1  2 20  4]\n"
     ]
    }
   ],
   "source": [
    "x=np.arange(5)\n",
    "x[3]=20  #deger değistirme\n",
    "print(x)"
   ]
  },
  {
   "cell_type": "code",
   "execution_count": 55,
   "metadata": {},
   "outputs": [
    {
     "name": "stdout",
     "output_type": "stream",
     "text": [
      "[[ 0  1  2  3  4]\n",
      " [ 5  6  7  8  9]\n",
      " [10 11 12 13 14]\n",
      " [15 16 17 18 19]]\n",
      "7\n",
      "14\n"
     ]
    }
   ],
   "source": [
    "x=np.arange(20).reshape(4,5)\n",
    "print(x)\n",
    "print(x[1,2]) #1. satır 2. sütunda ki değeri gösterir\n",
    "print(x[2,4]) #2. satır 4. sütunda ki değeri gösterir"
   ]
  },
  {
   "cell_type": "code",
   "execution_count": 56,
   "metadata": {},
   "outputs": [
    {
     "name": "stdout",
     "output_type": "stream",
     "text": [
      "[[  0   1   2   3   4]\n",
      " [  5   6   7   8   9]\n",
      " [ 10  11  12  13  14]\n",
      " [ 15  16  17  18 100]]\n"
     ]
    }
   ],
   "source": [
    "x=np.arange(20).reshape(4,5)\n",
    "x[3,4]=100 #3. satır 4. sütunu değistirdik\n",
    "print(x)\n"
   ]
  },
  {
   "cell_type": "code",
   "execution_count": 57,
   "metadata": {},
   "outputs": [
    {
     "name": "stdout",
     "output_type": "stream",
     "text": [
      "[0 1 2 3 4 5]\n",
      "[2 3 4 5]\n",
      "[0 1 2 3 4 5]\n"
     ]
    }
   ],
   "source": [
    "x=np.arange(6)\n",
    "print(x)\n",
    "\n",
    "y=np.delete(x,[0,1]) # 0 ıncı ve 1 inci indexi sildirir\n",
    "print(y)\n",
    "print(x)"
   ]
  },
  {
   "cell_type": "code",
   "execution_count": 63,
   "metadata": {},
   "outputs": [
    {
     "name": "stdout",
     "output_type": "stream",
     "text": [
      "[[ 0  1  2  3]\n",
      " [ 4  5  6  7]\n",
      " [ 8  9 10 11]\n",
      " [12 13 14 15]]\n",
      "[[ 0  1  2  3]\n",
      " [ 8  9 10 11]\n",
      " [12 13 14 15]]\n",
      "[[ 0  2  3]\n",
      " [ 4  6  7]\n",
      " [ 8 10 11]\n",
      " [12 14 15]]\n",
      "[[ 0  3]\n",
      " [ 4  7]\n",
      " [ 8 11]\n",
      " [12 15]]\n"
     ]
    }
   ],
   "source": [
    "#eğer axis=0 ise row yani satır değerleri işleme alınır, eğer axis=1 ise column yani sütun değerleri isleme alınır\n",
    "\n",
    "x=np.arange(16).reshape(4,4)\n",
    "print(x)\n",
    "\n",
    "y=np.delete(x,1,axis=0) #x xin 1. satırını sildi. \n",
    "print(y)\n",
    "\n",
    "z=np.delete(x,1,axis=1) #x xin 1. sütununu sildi. \n",
    "print(z)\n",
    "\n",
    "q=np.delete(x,[1,2],axis=1) #x xin 1. ve 2. sütununu sildi. \n",
    "print(q)\n",
    "\n"
   ]
  },
  {
   "cell_type": "code",
   "execution_count": 3,
   "metadata": {},
   "outputs": [
    {
     "name": "stdout",
     "output_type": "stream",
     "text": [
      "[0 1 2 3 4 5 6 7 8 9]\n",
      "[  0   1   2   3   4   5   6   7   8   9 100]\n"
     ]
    }
   ],
   "source": [
    "x=np.arange(10)\n",
    "print(x)\n",
    "x=np.append(x,100) # arraye veri eklemek\n",
    "print(x)"
   ]
  },
  {
   "cell_type": "code",
   "execution_count": 4,
   "metadata": {},
   "outputs": [
    {
     "name": "stdout",
     "output_type": "stream",
     "text": [
      "[  0   1   2   3   4   5   6   7   8   9 200 300]\n"
     ]
    }
   ],
   "source": [
    "x=np.arange(10)\n",
    "x=np.append(x,[200,300])\n",
    "print(x)"
   ]
  },
  {
   "cell_type": "code",
   "execution_count": 8,
   "metadata": {},
   "outputs": [
    {
     "name": "stdout",
     "output_type": "stream",
     "text": [
      "[[ 0  1  2  3]\n",
      " [ 4  5  6  7]\n",
      " [ 8  9 10 11]\n",
      " [12 13 14 15]]\n",
      "[[  0   1   2   3]\n",
      " [  4   5   6   7]\n",
      " [  8   9  10  11]\n",
      " [ 12  13  14  15]\n",
      " [100 200 300 400]]\n"
     ]
    }
   ],
   "source": [
    "x=np.arange(16).reshape(4,4)\n",
    "print(x)\n",
    "x=np.append(x,[[100,200,300,400]],axis=0) # birden fazla veri eklemek ,satır ekledik\n",
    "print(x) "
   ]
  },
  {
   "cell_type": "code",
   "execution_count": 10,
   "metadata": {},
   "outputs": [
    {
     "name": "stdout",
     "output_type": "stream",
     "text": [
      "[[ 0  1  2  3]\n",
      " [ 4  5  6  7]\n",
      " [ 8  9 10 11]\n",
      " [12 13 14 15]]\n",
      "[[  0   1   2   3 100]\n",
      " [  4   5   6   7 200]\n",
      " [  8   9  10  11 300]\n",
      " [ 12  13  14  15 400]]\n"
     ]
    }
   ],
   "source": [
    "x=np.arange(16).reshape(4,4)\n",
    "print(x)\n",
    "x=np.append(x,[[100],[200],[300],[400]],axis=1) # birden fazla veri eklemek ,sütun ekledik\n",
    "print(x) "
   ]
  },
  {
   "cell_type": "code",
   "execution_count": 17,
   "metadata": {},
   "outputs": [
    {
     "name": "stdout",
     "output_type": "stream",
     "text": [
      "[[ 0  1  2  3  4]\n",
      " [ 5  6  7  8  9]\n",
      " [10 11 12 13 14]\n",
      " [15 16 17 18 19]\n",
      " [20 21 22 23 24]]\n",
      "[[  0   1   2   3   4]\n",
      " [  5   6   7   8   9]\n",
      " [100 200 300 400 500]\n",
      " [ 10  11  12  13  14]\n",
      " [ 15  16  17  18  19]\n",
      " [ 20  21  22  23  24]]\n",
      "[[   0    1 1000    2    3    4]\n",
      " [   5    6 2000    7    8    9]\n",
      " [ 100  200 3000  300  400  500]\n",
      " [  10   11 4000   12   13   14]\n",
      " [  15   16 5000   17   18   19]\n",
      " [  20   21 6000   22   23   24]]\n"
     ]
    }
   ],
   "source": [
    "x=np.arange(25).reshape(5,5)\n",
    "print(x)\n",
    "x=np.insert(x,2,[100,200,300,400,500],axis=0) #burada x in ikinci satırına ekledik.\n",
    "print(x)\n",
    "x=np.insert(x,2,[1000,2000,3000,4000,5000,6000],axis=1) #burada x in ikinci sütununa ekledik.\n",
    "print(x)"
   ]
  },
  {
   "cell_type": "code",
   "execution_count": 19,
   "metadata": {},
   "outputs": [
    {
     "name": "stdout",
     "output_type": "stream",
     "text": [
      "[[ 0  1  2  3]\n",
      " [ 0  1  2  3]\n",
      " [ 4  5  6  7]\n",
      " [ 8  9 10 11]\n",
      " [12 13 14 15]]\n"
     ]
    }
   ],
   "source": [
    "x=np.arange(4)\n",
    "y=np.arange(16).reshape(4,4)\n",
    "\n",
    "z=np.vstack((x,y)) #x i aldı ve y'nin üzerine koydu.dikey iliştirme verticalstack\n",
    "print(z)"
   ]
  },
  {
   "cell_type": "code",
   "execution_count": 25,
   "metadata": {},
   "outputs": [
    {
     "name": "stdout",
     "output_type": "stream",
     "text": [
      "[0 1 2 0 1 2 3 4 5 6 7 8]\n"
     ]
    }
   ],
   "source": [
    "x=np.arange(3)\n",
    "y=np.arange(9).reshape(3,3)\n",
    "\n",
    "z=np.hstack((x,y.reshape(9,))) #x i aldı ve y'nin başına koydu. yatay iliştirme.horizontal\n",
    "print(z)"
   ]
  },
  {
   "cell_type": "code",
   "execution_count": 33,
   "metadata": {},
   "outputs": [
    {
     "name": "stdout",
     "output_type": "stream",
     "text": [
      "[2 3 4 5]\n",
      "[3 4 5 6 7 8 9]\n",
      "[0 1 2 3 4]\n",
      "[5 6 7]\n"
     ]
    }
   ],
   "source": [
    "x=np.arange(10)\n",
    "print(x[2:6])\n",
    "print(x[3:])\n",
    "print(x[:5])\n",
    "print(x[-5:-2])"
   ]
  },
  {
   "cell_type": "code",
   "execution_count": 37,
   "metadata": {},
   "outputs": [
    {
     "name": "stdout",
     "output_type": "stream",
     "text": [
      "[[10 11 12 13 14]\n",
      " [15 16 17 18 19]\n",
      " [20 21 22 23 24]]\n",
      "\n",
      "[[ 7  8]\n",
      " [12 13]\n",
      " [17 18]]\n",
      "\n",
      "[[ 0  1  2  3  4]\n",
      " [ 5  6  7  8  9]\n",
      " [10 11 12 13 14]\n",
      " [15 16 17 18 19]\n",
      " [20 21 22 23 24]]\n",
      "\n",
      "[[ 3  4]\n",
      " [ 8  9]\n",
      " [13 14]\n",
      " [18 19]\n",
      " [23 24]]\n",
      "\n"
     ]
    }
   ],
   "source": [
    "x=np.arange(25).reshape(5,5)\n",
    "print(x[2:])\n",
    "print()\n",
    "print(x[1:4,2:4])   #iki boyutlu slicing\n",
    "print()\n",
    "print(x[::])\n",
    "print()\n",
    "print(x[:,3:])\n",
    "print()\n",
    "\n"
   ]
  },
  {
   "cell_type": "code",
   "execution_count": 38,
   "metadata": {},
   "outputs": [
    {
     "name": "stdout",
     "output_type": "stream",
     "text": [
      "[[ 0  1  2  3]\n",
      " [ 4  5  6  7]\n",
      " [ 8  9 10 11]\n",
      " [12 13 14 15]]\n",
      "[[ 1  2  3]\n",
      " [ 5  6  7]\n",
      " [ 9 10 11]]\n",
      "False\n",
      "[[ 0  1  2  3]\n",
      " [ 4  5  6  7]\n",
      " [ 8  9 10 11]\n",
      " [12 13 14 15]]\n",
      "[[100   2   3]\n",
      " [  5   6   7]\n",
      " [  9  10  11]]\n"
     ]
    }
   ],
   "source": [
    "x=np.arange(16).reshape(4,4)\n",
    "print(x)\n",
    "y=np.copy(x[0:3,1:4])#aynı adreste tutulmamaları için copy kullanılır.\n",
    "print(y)\n",
    "print(np.shares_memory(x,y))#hafıza adresleri kontrol edilir.\n",
    "y[0,0]=100\n",
    "print(x)\n",
    "print(y)\n"
   ]
  },
  {
   "cell_type": "code",
   "execution_count": 41,
   "metadata": {},
   "outputs": [
    {
     "name": "stdout",
     "output_type": "stream",
     "text": [
      "[ 1.  3.  5.  7.  9. 11. 13. 15. 17. 19. 21.]\n",
      "[2 4 7]\n",
      "[ 5.  9. 15.]\n"
     ]
    }
   ],
   "source": [
    "x=np.linspace(1,21,11)\n",
    "print(x)\n",
    "y=np.array([2,4,7]) \n",
    "print(y)\n",
    "\n",
    "print(x[y])  #x arrayı içinde ki 2. 4.ve 7. indexte ki değerleri slicing yaptı."
   ]
  },
  {
   "cell_type": "code",
   "execution_count": 43,
   "metadata": {},
   "outputs": [
    {
     "name": "stdout",
     "output_type": "stream",
     "text": [
      "[[ 0  1  2  3  4]\n",
      " [ 5  6  7  8  9]\n",
      " [10 11 12 13 14]\n",
      " [15 16 17 18 19]\n",
      " [20 21 22 23 24]]\n",
      "[1 2]\n",
      "[[ 5  6  7  8  9]\n",
      " [10 11 12 13 14]]\n",
      "[[ 1  2]\n",
      " [ 6  7]\n",
      " [11 12]\n",
      " [16 17]\n",
      " [21 22]]\n"
     ]
    }
   ],
   "source": [
    "x=np.arange(25).reshape(5,5)\n",
    "print(x)\n",
    "y=np.array([1,2])\n",
    "print(y)\n",
    "\n",
    "print(x[y,:]) # xin 1 ve 2. satırını aldık\n",
    "\n",
    "print(x[:,y])# xin 1 ve 2. sütununu aldık\n"
   ]
  },
  {
   "cell_type": "code",
   "execution_count": 46,
   "metadata": {},
   "outputs": [
    {
     "name": "stdout",
     "output_type": "stream",
     "text": [
      "[3 5]\n",
      "[2 4 6 7]\n",
      "[0 1 2 3 4 5 6 7 8 9]\n",
      "[False  True False  True False False]\n"
     ]
    }
   ],
   "source": [
    "x=np.array([2,5,4,3,6,7])\n",
    "y=np.array([1,3,8,9,5,0])\n",
    "\n",
    "print(np.intersect1d(x,y)) # x ve y de ki ortak elemanlardan yeni bir array gosterir\n",
    "print(np.setdiff1d(x,y)) # x in y den farklı elemanlarından olusan yeni array gosterir\n",
    "\n",
    "print(np.union1d(x,y)) # x ve y nin birleşimini alır değerler tek sefer yazdırılır\n",
    "\n",
    "print(np.in1d(x,y)) # x in y de de olan değerlerinin indexinde true dondurur. diğerlerini false\n",
    "\n"
   ]
  },
  {
   "cell_type": "code",
   "execution_count": 47,
   "metadata": {},
   "outputs": [
    {
     "name": "stdout",
     "output_type": "stream",
     "text": [
      "[8 8 7 2 8 5 3 5 8 1]\n",
      "[1 2 3 5 5 7 8 8 8 8]\n"
     ]
    }
   ],
   "source": [
    "x=np.random.randint(1,10,size=(10,))\n",
    "print(x)\n",
    "print(np.sort(x)) #sıralar\n"
   ]
  },
  {
   "cell_type": "code",
   "execution_count": 50,
   "metadata": {},
   "outputs": [
    {
     "name": "stdout",
     "output_type": "stream",
     "text": [
      "[[4 8 4]\n",
      " [7 5 3]\n",
      " [9 4 8]]\n",
      "52\n",
      "[20 17 15]\n",
      "[16 15 21]\n",
      "3\n",
      "9\n",
      "5\n",
      "6\n"
     ]
    }
   ],
   "source": [
    "x=np.random.randint(1,10,size=(9,)).reshape(3,3)\n",
    "print(x)\n",
    "\n",
    "print(np.sum(x))\n",
    "print(x.sum(axis=0))\n",
    "print(x.sum(axis=1))\n",
    "print(x.min())\n",
    "print(x.max())\n",
    "print(x.argmin())\n",
    "print(x.argmax())"
   ]
  },
  {
   "cell_type": "code",
   "execution_count": 55,
   "metadata": {},
   "outputs": [
    {
     "name": "stdout",
     "output_type": "stream",
     "text": [
      "[2 1 5 3 8 9 1 5]\n",
      "4.25\n",
      "4.0\n",
      "2.8613807855648994\n"
     ]
    }
   ],
   "source": [
    "x=np.random.randint(1,10,size=(8,))\n",
    "print(x)\n",
    "print(x.mean()) #ortalama\n",
    "\n",
    "print(np.median(x)) # medyan alır ortada kalan\n",
    "\n",
    "print(x.std()) # standart sapma alır "
   ]
  },
  {
   "cell_type": "code",
   "execution_count": 57,
   "metadata": {},
   "outputs": [
    {
     "name": "stdout",
     "output_type": "stream",
     "text": [
      "[[8 6 3]]\n",
      "[[7]\n",
      " [1]\n",
      " [9]]\n",
      "[[15 13 10]\n",
      " [ 9  7  4]\n",
      " [17 15 12]]\n"
     ]
    }
   ],
   "source": [
    "#Broadcasting\n",
    "x=np.random.randint(1,10, size=(1,3))\n",
    "print(x)\n",
    "y=np.random.randint(1,10, size=(3,1))\n",
    "print(y)\n",
    "\n",
    "print(x+y)\n",
    "\n"
   ]
  }
 ],
 "metadata": {
  "interpreter": {
   "hash": "f9d450f416c0b3f9e2d3365d749aa2b038e5257b55deffde02801d6035ae80ab"
  },
  "kernelspec": {
   "display_name": "Python 3.10.4 64-bit",
   "language": "python",
   "name": "python3"
  },
  "language_info": {
   "codemirror_mode": {
    "name": "ipython",
    "version": 3
   },
   "file_extension": ".py",
   "mimetype": "text/x-python",
   "name": "python",
   "nbconvert_exporter": "python",
   "pygments_lexer": "ipython3",
   "version": "3.10.4"
  },
  "orig_nbformat": 4
 },
 "nbformat": 4,
 "nbformat_minor": 2
}
